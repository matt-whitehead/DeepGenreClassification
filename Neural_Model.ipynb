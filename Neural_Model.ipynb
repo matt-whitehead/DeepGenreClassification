{
 "cells": [
  {
   "cell_type": "markdown",
   "metadata": {},
   "source": [
    "# SI 670: Applied Machine Learning Final Project\n",
    "## Music Genre Classification\n",
    "Matt Whitehead (mwwhite)"
   ]
  },
  {
   "cell_type": "markdown",
   "metadata": {},
   "source": [
    "## Neural Modeling"
   ]
  },
  {
   "cell_type": "code",
   "execution_count": 4,
   "metadata": {},
   "outputs": [],
   "source": [
    "import numpy as np\n",
    "import pandas as pd\n",
    "from sklearn.model_selection import train_test_split\n",
    "from keras.utils import to_categorical\n",
    "from keras import Model\n",
    "from keras.layers import Dense, Flatten, Input, Dropout\n",
    "from keras.applications.vgg16 import VGG16\n",
    "from keras import regularizers"
   ]
  },
  {
   "cell_type": "code",
   "execution_count": 8,
   "metadata": {},
   "outputs": [],
   "source": [
    "X = np.load('X.npy')\n",
    "y = np.load('y.npy')"
   ]
  },
  {
   "cell_type": "code",
   "execution_count": 9,
   "metadata": {},
   "outputs": [],
   "source": [
    "X = np.stack((X,) * 3, -1)\n",
    "y = pd.factorize(y)[0]"
   ]
  },
  {
   "cell_type": "code",
   "execution_count": 10,
   "metadata": {},
   "outputs": [],
   "source": [
    "y = to_categorical(y)\n",
    "X_train, X_test, y_train, y_test = train_test_split(X, y, stratify=y, random_state=1026, test_size=0.3)"
   ]
  },
  {
   "cell_type": "code",
   "execution_count": 30,
   "metadata": {},
   "outputs": [
    {
     "name": "stdout",
     "output_type": "stream",
     "text": [
      "_________________________________________________________________\n",
      "Layer (type)                 Output Shape              Param #   \n",
      "=================================================================\n",
      "input_12 (InputLayer)        (None, 128, 129, 3)       0         \n",
      "_________________________________________________________________\n",
      "block1_conv1 (Conv2D)        (None, 128, 129, 64)      1792      \n",
      "_________________________________________________________________\n",
      "block1_conv2 (Conv2D)        (None, 128, 129, 64)      36928     \n",
      "_________________________________________________________________\n",
      "block1_pool (MaxPooling2D)   (None, 64, 64, 64)        0         \n",
      "_________________________________________________________________\n",
      "block2_conv1 (Conv2D)        (None, 64, 64, 128)       73856     \n",
      "_________________________________________________________________\n",
      "block2_conv2 (Conv2D)        (None, 64, 64, 128)       147584    \n",
      "_________________________________________________________________\n",
      "block2_pool (MaxPooling2D)   (None, 32, 32, 128)       0         \n",
      "_________________________________________________________________\n",
      "block3_conv1 (Conv2D)        (None, 32, 32, 256)       295168    \n",
      "_________________________________________________________________\n",
      "block3_conv2 (Conv2D)        (None, 32, 32, 256)       590080    \n",
      "_________________________________________________________________\n",
      "block3_conv3 (Conv2D)        (None, 32, 32, 256)       590080    \n",
      "_________________________________________________________________\n",
      "block3_pool (MaxPooling2D)   (None, 16, 16, 256)       0         \n",
      "_________________________________________________________________\n",
      "block4_conv1 (Conv2D)        (None, 16, 16, 512)       1180160   \n",
      "_________________________________________________________________\n",
      "block4_conv2 (Conv2D)        (None, 16, 16, 512)       2359808   \n",
      "_________________________________________________________________\n",
      "block4_conv3 (Conv2D)        (None, 16, 16, 512)       2359808   \n",
      "_________________________________________________________________\n",
      "block4_pool (MaxPooling2D)   (None, 8, 8, 512)         0         \n",
      "_________________________________________________________________\n",
      "block5_conv1 (Conv2D)        (None, 8, 8, 512)         2359808   \n",
      "_________________________________________________________________\n",
      "block5_conv2 (Conv2D)        (None, 8, 8, 512)         2359808   \n",
      "_________________________________________________________________\n",
      "block5_conv3 (Conv2D)        (None, 8, 8, 512)         2359808   \n",
      "_________________________________________________________________\n",
      "block5_pool (MaxPooling2D)   (None, 4, 4, 512)         0         \n",
      "_________________________________________________________________\n",
      "flatten_6 (Flatten)          (None, 8192)              0         \n",
      "_________________________________________________________________\n",
      "dense_11 (Dense)             (None, 512)               4194816   \n",
      "_________________________________________________________________\n",
      "dropout_6 (Dropout)          (None, 512)               0         \n",
      "_________________________________________________________________\n",
      "dense_12 (Dense)             (None, 10)                5130      \n",
      "=================================================================\n",
      "Total params: 18,914,634\n",
      "Trainable params: 18,914,634\n",
      "Non-trainable params: 0\n",
      "_________________________________________________________________\n"
     ]
    }
   ],
   "source": [
    "base_model = VGG16(include_top=False, weights='imagenet', input_shape=X_train[0].shape)\n",
    "flatten = Flatten()(base_model.output)\n",
    "dense = Dense(512, activation='relu', kernel_regularizer=regularizers.l2(0.001))(flatten)\n",
    "drop = Dropout(0.3)(dense)\n",
    "out = Dense(10, activation='softmax')(drop)\n",
    "model = Model(inputs=base_model.input, outputs=out)\n",
    "\n",
    "model.compile(loss='categorical_crossentropy',\n",
    "              optimizer='adam',\n",
    "              metrics=['accuracy'])\n",
    "model.summary()"
   ]
  },
  {
   "cell_type": "code",
   "execution_count": 31,
   "metadata": {},
   "outputs": [
    {
     "name": "stdout",
     "output_type": "stream",
     "text": [
      "Train on 13300 samples, validate on 5700 samples\n",
      "Epoch 1/30\n",
      "13300/13300 [==============================] - 143s 11ms/step - loss: 3.3930 - acc: 0.2662 - val_loss: 2.1087 - val_acc: 0.3161\n",
      "Epoch 2/30\n",
      "13300/13300 [==============================] - 138s 10ms/step - loss: 1.9826 - acc: 0.3835 - val_loss: 1.7768 - val_acc: 0.4474\n",
      "Epoch 3/30\n",
      "13300/13300 [==============================] - 138s 10ms/step - loss: 1.6742 - acc: 0.4795 - val_loss: 1.5210 - val_acc: 0.5400\n",
      "Epoch 4/30\n",
      "13300/13300 [==============================] - 138s 10ms/step - loss: 1.4214 - acc: 0.5686 - val_loss: 1.3364 - val_acc: 0.5853\n",
      "Epoch 5/30\n",
      "13300/13300 [==============================] - 139s 10ms/step - loss: 1.2355 - acc: 0.6270 - val_loss: 1.1452 - val_acc: 0.6553\n",
      "Epoch 6/30\n",
      "13300/13300 [==============================] - 139s 10ms/step - loss: 1.0626 - acc: 0.6792 - val_loss: 0.9748 - val_acc: 0.7130\n",
      "Epoch 7/30\n",
      "13300/13300 [==============================] - 139s 10ms/step - loss: 0.9455 - acc: 0.7246 - val_loss: 0.9591 - val_acc: 0.7163\n",
      "Epoch 8/30\n",
      "13300/13300 [==============================] - 139s 10ms/step - loss: 0.8617 - acc: 0.7480 - val_loss: 0.7966 - val_acc: 0.7742\n",
      "Epoch 9/30\n",
      "13300/13300 [==============================] - 139s 10ms/step - loss: 0.7610 - acc: 0.7820 - val_loss: 0.7647 - val_acc: 0.7835\n",
      "Epoch 10/30\n",
      "13300/13300 [==============================] - 139s 10ms/step - loss: 0.7032 - acc: 0.7985 - val_loss: 0.6716 - val_acc: 0.8151\n",
      "Epoch 11/30\n",
      "13300/13300 [==============================] - 139s 10ms/step - loss: 0.6687 - acc: 0.8132 - val_loss: 0.6514 - val_acc: 0.8289\n",
      "Epoch 12/30\n",
      "13300/13300 [==============================] - 139s 10ms/step - loss: 0.5220 - acc: 0.8626 - val_loss: 0.5671 - val_acc: 0.8544\n",
      "Epoch 13/30\n",
      "13300/13300 [==============================] - 139s 10ms/step - loss: 0.4856 - acc: 0.8708 - val_loss: 0.5293 - val_acc: 0.8639\n",
      "Epoch 14/30\n",
      "13300/13300 [==============================] - 138s 10ms/step - loss: 0.4410 - acc: 0.8856 - val_loss: 0.5131 - val_acc: 0.8614\n",
      "Epoch 15/30\n",
      "13300/13300 [==============================] - 138s 10ms/step - loss: 0.4394 - acc: 0.8892 - val_loss: 0.7339 - val_acc: 0.7900\n",
      "Epoch 16/30\n",
      "13300/13300 [==============================] - 138s 10ms/step - loss: 0.4458 - acc: 0.8847 - val_loss: 0.4423 - val_acc: 0.8921\n",
      "Epoch 17/30\n",
      "13300/13300 [==============================] - 138s 10ms/step - loss: 0.3026 - acc: 0.9323 - val_loss: 0.4307 - val_acc: 0.8956\n",
      "Epoch 18/30\n",
      "13300/13300 [==============================] - 138s 10ms/step - loss: 0.2586 - acc: 0.9463 - val_loss: 0.5838 - val_acc: 0.8721\n",
      "Epoch 19/30\n",
      "13300/13300 [==============================] - 138s 10ms/step - loss: 0.3016 - acc: 0.9318 - val_loss: 0.3804 - val_acc: 0.9072\n",
      "Epoch 20/30\n",
      "13300/13300 [==============================] - 138s 10ms/step - loss: 0.2689 - acc: 0.9398 - val_loss: 0.4125 - val_acc: 0.9033\n",
      "Epoch 21/30\n",
      "13300/13300 [==============================] - 138s 10ms/step - loss: 0.2252 - acc: 0.9535 - val_loss: 0.4090 - val_acc: 0.8995\n",
      "Epoch 22/30\n",
      "13300/13300 [==============================] - 138s 10ms/step - loss: 0.2139 - acc: 0.9565 - val_loss: 0.4355 - val_acc: 0.8942\n",
      "Epoch 23/30\n",
      "13300/13300 [==============================] - 138s 10ms/step - loss: 0.2304 - acc: 0.9499 - val_loss: 0.3981 - val_acc: 0.9074\n",
      "Epoch 24/30\n",
      "13300/13300 [==============================] - 138s 10ms/step - loss: 0.1682 - acc: 0.9721 - val_loss: 0.3850 - val_acc: 0.9111\n",
      "Epoch 25/30\n",
      "13300/13300 [==============================] - 138s 10ms/step - loss: 0.1612 - acc: 0.9745 - val_loss: 0.3937 - val_acc: 0.9084\n",
      "Epoch 26/30\n",
      "13300/13300 [==============================] - 138s 10ms/step - loss: 0.1706 - acc: 0.9688 - val_loss: 0.3699 - val_acc: 0.9182\n",
      "Epoch 27/30\n",
      "13300/13300 [==============================] - 138s 10ms/step - loss: 0.1416 - acc: 0.9789 - val_loss: 0.3668 - val_acc: 0.9196\n",
      "Epoch 28/30\n",
      "13300/13300 [==============================] - 138s 10ms/step - loss: 0.1272 - acc: 0.9824 - val_loss: 0.3868 - val_acc: 0.9053\n",
      "Epoch 29/30\n",
      "13300/13300 [==============================] - 138s 10ms/step - loss: 0.1583 - acc: 0.9720 - val_loss: 0.3621 - val_acc: 0.9156\n",
      "Epoch 30/30\n",
      "13300/13300 [==============================] - 138s 10ms/step - loss: 0.1704 - acc: 0.9687 - val_loss: 0.3729 - val_acc: 0.9200\n"
     ]
    }
   ],
   "source": [
    "hist = model.fit(X_train, y_train,\n",
    "          batch_size=256,\n",
    "          epochs=30,\n",
    "          verbose=1,\n",
    "          validation_data=(X_test, y_test))"
   ]
  },
  {
   "cell_type": "code",
   "execution_count": 32,
   "metadata": {
    "scrolled": true
   },
   "outputs": [
    {
     "name": "stdout",
     "output_type": "stream",
     "text": [
      "Training Accuracy: 0.9826\n",
      "Testing Accuracy:  0.9200\n"
     ]
    }
   ],
   "source": [
    "loss, accuracy = model.evaluate(X_train, y_train, verbose=False)\n",
    "print(\"Training Accuracy: {:.4f}\".format(accuracy))\n",
    "loss, accuracy = model.evaluate(X_test, y_test, verbose=False)\n",
    "print(\"Testing Accuracy:  {:.4f}\".format(accuracy))"
   ]
  },
  {
   "cell_type": "code",
   "execution_count": 33,
   "metadata": {},
   "outputs": [],
   "source": [
    "# I recycled this code from a previous deep learning project of mine\n",
    "import matplotlib.pyplot as plt\n",
    "plt.style.use('ggplot')\n",
    "\n",
    "def plot_history(history):\n",
    "    acc = history.history['acc']\n",
    "    val_acc = history.history['val_acc']\n",
    "    loss = history.history['loss']\n",
    "    val_loss = history.history['val_loss']\n",
    "    x = range(1, len(acc) + 1)\n",
    "\n",
    "    plt.figure(figsize=(12, 5))\n",
    "    plt.subplot(1, 2, 1)\n",
    "    plt.plot(x, acc, 'b', label='Training acc')\n",
    "    plt.plot(x, val_acc, 'r', label='Validation acc')\n",
    "    plt.title('Training and validation accuracy')\n",
    "    plt.legend()\n",
    "    plt.subplot(1, 2, 2)\n",
    "    plt.plot(x, loss, 'b', label='Training loss')\n",
    "    plt.plot(x, val_loss, 'r', label='Validation loss')\n",
    "    plt.title('Training and validation loss')\n",
    "    plt.legend()"
   ]
  },
  {
   "cell_type": "code",
   "execution_count": 34,
   "metadata": {},
   "outputs": [
    {
     "data": {
      "image/png": "[encoded data removed]",
      "text/plain": [
       "<Figure size 864x360 with 2 Axes>"
      ]
     },
     "metadata": {},
     "output_type": "display_data"
    }
   ],
   "source": [
    "plot_history(hist)"
   ]
  }
 ],
 "metadata": {
  "kernelspec": {
   "display_name": "Python 3",
   "language": "python",
   "name": "python3"
  },
  "language_info": {
   "codemirror_mode": {
    "name": "ipython",
    "version": 3
   },
   "file_extension": ".py",
   "mimetype": "text/x-python",
   "name": "python",
   "nbconvert_exporter": "python",
   "pygments_lexer": "ipython3",
   "version": "3.6.5"
  }
 },
 "nbformat": 4,
 "nbformat_minor": 2
}
