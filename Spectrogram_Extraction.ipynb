{
 "cells": [
  {
   "cell_type": "markdown",
   "metadata": {},
   "source": [
    "# SI 670: Applied Machine Learning Final Project\n",
    "## Music Genre Classification\n",
    "Matt Whitehead (mwwhite)"
   ]
  },
  {
   "cell_type": "markdown",
   "metadata": {},
   "source": [
    "## Spectrogram Extraction"
   ]
  },
  {
   "cell_type": "markdown",
   "metadata": {},
   "source": [
    "In order to prepare the data for classification with a neural network, I extracted melspectrograms for each song in the data set. While each song is a 30 second sample, the array lengths for their signal data are slightly different. As a consequence of this, the extracted spectrograms have slightly different shapes. My initial thought was to pad the signals for the smaller songs to match the length of the larger songs. However this resulted in additional problems. I instead decided to follow the example in this [GitHub repository](https://github.com/Hguimaraes/gtzan.keras/blob/master/nbs/classification_cnn_vgg16.ipynb) and limit the signal arrays to the length of the smallest one. This resolved a lot of problems with tensor shape and did not seem to compromise model accuracy. I then split each song into 10 second windows with 50% overlap. This greatly improved model accuracy and resulted in 19 splits for each song. "
   ]
  },
  {
   "cell_type": "code",
   "execution_count": 1,
   "metadata": {},
   "outputs": [],
   "source": [
    "import pandas as pd\n",
    "import librosa\n",
    "import numpy as np\n",
    "from os import listdir"
   ]
  },
  {
   "cell_type": "code",
   "execution_count": 2,
   "metadata": {},
   "outputs": [],
   "source": [
    "def extract_specs(genre):\n",
    "    # initialize lists\n",
    "    temp_x = []\n",
    "    temp_y = []\n",
    "    \n",
    "    # step through each song in the directory\n",
    "    for file in listdir('genres/' + genre):\n",
    "        song, sr = librosa.load('genres/' + genre + '/' + file)\n",
    "        song = song[:660000]\n",
    "            \n",
    "        # split the song into overlaping chunks\n",
    "        # ref: https://github.com/Hguimaraes/gtzan.keras/blob/master/nbs/classification_cnn_2d.ipynb\n",
    "        xshape = song.shape[0]\n",
    "        chunk = int(xshape*0.1)\n",
    "        offset = int(chunk*(1.-0.5))\n",
    "        split_song = [song[i:i+chunk] for i in range(0, xshape - chunk + offset, offset)]\n",
    "        \n",
    "        # output the spectogram and genre\n",
    "        for s in split_song:\n",
    "            split_spec = librosa.feature.melspectrogram(s)           \n",
    "            temp_x.append(split_spec)\n",
    "            temp_y.append(genre)\n",
    "    \n",
    "    return (temp_x, temp_y)"
   ]
  },
  {
   "cell_type": "code",
   "execution_count": 3,
   "metadata": {},
   "outputs": [],
   "source": [
    "X = []\n",
    "y = []\n",
    "\n",
    "genres = ['pop','blues', 'classical', 'country', 'disco', 'hiphop', 'jazz', 'metal', 'reggae', 'rock']\n",
    "\n",
    "for i in genres:\n",
    "    results = extract_specs(i)\n",
    "    X.append(results[0])\n",
    "    y.append(results[1])"
   ]
  },
  {
   "cell_type": "code",
   "execution_count": 4,
   "metadata": {},
   "outputs": [],
   "source": [
    "smallest_song = 660000\n",
    "largest_song = 675808"
   ]
  },
  {
   "cell_type": "code",
   "execution_count": 5,
   "metadata": {},
   "outputs": [],
   "source": [
    "final_X = np.concatenate([X[i] for i in range(10)])\n",
    "final_y = np.array(y).flatten()"
   ]
  },
  {
   "cell_type": "code",
   "execution_count": 6,
   "metadata": {},
   "outputs": [],
   "source": [
    "np.save('X', final_X)\n",
    "np.save('y', final_y)"
   ]
  }
 ],
 "metadata": {
  "kernelspec": {
   "display_name": "Python 3",
   "language": "python",
   "name": "python3"
  },
  "language_info": {
   "codemirror_mode": {
    "name": "ipython",
    "version": 3
   },
   "file_extension": ".py",
   "mimetype": "text/x-python",
   "name": "python",
   "nbconvert_exporter": "python",
   "pygments_lexer": "ipython3",
   "version": "3.6.5"
  }
 },
 "nbformat": 4,
 "nbformat_minor": 2
}
